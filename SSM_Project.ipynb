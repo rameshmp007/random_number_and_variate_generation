{
 "cells": [
  {
   "cell_type": "markdown",
   "id": "955b7009",
   "metadata": {},
   "source": [
    "# Random Number Generation Techniques"
   ]
  },
  {
   "cell_type": "markdown",
   "id": "810803fe",
   "metadata": {},
   "source": [
    "## Linear Congruential Method:\n",
    "<img src='lcd.jpeg' width=\"800\" height=\"400\">"
   ]
  },
  {
   "cell_type": "code",
   "execution_count": 16,
   "id": "203f553a",
   "metadata": {
    "scrolled": true
   },
   "outputs": [
    {
     "data": {
      "image/png": "[encoded data removed]",
      "text/plain": [
       "<Figure size 432x288 with 1 Axes>"
      ]
     },
     "metadata": {
      "needs_background": "light"
     },
     "output_type": "display_data"
    }
   ],
   "source": [
    "import matplotlib.pyplot as plt\n",
    "%matplotlib inline\n",
    "\n",
    "def lcd(a, X0, c, m, n):\n",
    "    \"\"\"\n",
    "    Linear Congruential Method\n",
    "    arguements\n",
    "        a  : constant multiplier\n",
    "        X0 : seed number\n",
    "        c  : increment\n",
    "        m  : modulus\n",
    "        n  : number of random numbers\n",
    "\n",
    "    returns a tuple of \n",
    "        Rn : array of random number\n",
    "    \"\"\"\n",
    "    Xn = X0\n",
    "    Rn = []\n",
    "    for i in range(n):\n",
    "        X_next = (a * Xn + c) % m\n",
    "        Rn.append(X_next / m)\n",
    "        Xn = X_next\n",
    "        \n",
    "    return Rn\n",
    "\n",
    "a = 29 \n",
    "m = 16384 \n",
    "X0 = 24 \n",
    "c = 83 \n",
    "n = 10\n",
    "Rn = lcd(a, X0, c, m, n)\n",
    "\n",
    "# Plot histogram of the generated random numbers\n",
    "plt.hist(Rn,bins='auto')\n",
    "plt.xlabel('Random Number', fontweight ='bold')\n",
    "plt.ylabel('Frequency', fontweight ='bold')\n",
    "plt.show()"
   ]
  },
  {
   "cell_type": "markdown",
   "id": "3f973dc1",
   "metadata": {},
   "source": [
    "## Multiplicative Congruential Method:"
   ]
  },
  {
   "cell_type": "code",
   "execution_count": 17,
   "id": "d16c9579",
   "metadata": {},
   "outputs": [
    {
     "data": {
      "image/png": "[encoded data removed]",
      "text/plain": [
       "<Figure size 432x288 with 1 Axes>"
      ]
     },
     "metadata": {
      "needs_background": "light"
     },
     "output_type": "display_data"
    }
   ],
   "source": [
    "import matplotlib.pyplot as plt\n",
    "%matplotlib inline\n",
    "\n",
    "\n",
    "def mcd(a, X0, m, n):\n",
    "    \"\"\"\n",
    "    Multiplicative Congruential Method\n",
    "    arguements\n",
    "        a  : constant multiplier\n",
    "        X0 : seed number\n",
    "        m  : modulus\n",
    "        n  : number of random numbers\n",
    "\n",
    "    returns a tuple of\n",
    "        Rn : array of random numbers\n",
    "    \"\"\"\n",
    "\n",
    "    Xn = X0\n",
    "    Rn = []\n",
    "    for i in range(n):\n",
    "        X_next = (a * Xn) % m\n",
    "        Rn.append(X_next / m)\n",
    "        Xn = X_next\n",
    "        \n",
    "    return Rn\n",
    "\n",
    "a = 29\n",
    "m = 16384\n",
    "X0 = 24\n",
    "n = 10\n",
    "Rn = mcd(a, X0, m, n)\n",
    "\n",
    "\n",
    "# Plot histogram of the generated random numbers\n",
    "plt.hist(Rn,bins='auto')\n",
    "plt.xlabel('Random Number', fontweight ='bold')\n",
    "plt.ylabel('Frequency', fontweight ='bold')\n",
    "plt.show()"
   ]
  },
  {
   "cell_type": "markdown",
   "id": "789a6050",
   "metadata": {},
   "source": [
    "# Random Variate  Generation Techniques"
   ]
  },
  {
   "cell_type": "markdown",
   "id": "6d9c24bf",
   "metadata": {},
   "source": [
    "## Exponential Distribution:\n",
    "<img src='ed.jpeg' width=\"600\" height=\"400\">"
   ]
  },
  {
   "cell_type": "code",
   "execution_count": 34,
   "id": "524a79cc",
   "metadata": {},
   "outputs": [
    {
     "data": {
      "image/png": "[encoded data removed]",
      "text/plain": [
       "<Figure size 432x288 with 1 Axes>"
      ]
     },
     "metadata": {
      "needs_background": "light"
     },
     "output_type": "display_data"
    }
   ],
   "source": [
    "import math\n",
    "import numpy as np\n",
    "import matplotlib.pyplot as plt\n",
    "%matplotlib inline\n",
    "\n",
    "\n",
    "def ed(lamda, Rn):\n",
    "    \"\"\"\n",
    "    Exponential Distribution\n",
    "    arguements \n",
    "        lamda : mean \n",
    "        Rn    : array of random numbers\n",
    "    returns \n",
    "        Xn : array of Random Variate\n",
    "    \"\"\"\n",
    "    n = len(Rn)\n",
    "    Xn = []\n",
    "    for i in range(n):\n",
    "        Xi = (-1 / lamda) * math.log(1 - Rn[i])\n",
    "        Xi = round(Xi, 4)\n",
    "        Xn.append(Xi)\n",
    "    return Xn\n",
    "\n",
    "lamda = 1\n",
    "Rn = np.random.random_sample(size = 10)\n",
    "# Rn = [0.3, 0.2, 0.1, 0.5, 0.6]\n",
    "Xn = ed(lamda, Rn)\n",
    "Rn\n",
    "\n",
    "# Plot histogram of the generated random numbers\n",
    "plt.hist(Xn,bins='auto')\n",
    "plt.xlabel('Random Number', fontweight ='bold')\n",
    "plt.ylabel('Frequency', fontweight ='bold')\n",
    "plt.show()"
   ]
  },
  {
   "cell_type": "markdown",
   "id": "061a0037",
   "metadata": {},
   "source": [
    "## Uniform Distribution:"
   ]
  },
  {
   "cell_type": "code",
   "execution_count": 57,
   "id": "02a92e3e",
   "metadata": {
    "scrolled": false
   },
   "outputs": [
    {
     "data": {
      "image/png": "[encoded data removed]",
      "text/plain": [
       "<Figure size 432x288 with 1 Axes>"
      ]
     },
     "metadata": {
      "needs_background": "light"
     },
     "output_type": "display_data"
    }
   ],
   "source": [
    "import numpy as np\n",
    "import matplotlib.pyplot as plt\n",
    "%matplotlib inline\n",
    "\n",
    "\n",
    "def ud(a, b, Rn):\n",
    "    \"\"\"\n",
    "    Uniform Distribution\n",
    "    arguements \n",
    "        a  : lower limit in interval\n",
    "        b  : upper limit in interval\n",
    "        Rn : array of Sample Data\n",
    "    returns \n",
    "        Xn : array of Random Variate\n",
    "    \"\"\"\n",
    "    n = len(Rn)\n",
    "    Xn = []\n",
    "    for i in range(n):\n",
    "        if(Rn[i] < a):\n",
    "            Xi = 0\n",
    "        elif(Rn[i] > b):\n",
    "            Xi = 1\n",
    "        else:\n",
    "            Xi = a + (b - a) * Rn[i]\n",
    "\n",
    "        Xi = round(Xi, 3)\n",
    "        Xn.append(Xi)\n",
    "    return Xn\n",
    "\n",
    "\n",
    "a = 0.3\n",
    "b = 2\n",
    "Rn = np.random.random_sample(size = 1000)\n",
    "# Rn = [0.3, 0.25, 0.8, 0.75, 2.5]\n",
    "Xn = ud(a, b, Rn)\n",
    "# print(Xn)\n",
    "\n",
    "# Plot histogram of the generated random numbers\n",
    "plt.hist(Xn,bins='auto')\n",
    "plt.xlabel('Random Number', fontweight ='bold')\n",
    "plt.ylabel('Frequency', fontweight ='bold')\n",
    "plt.show()"
   ]
  },
  {
   "cell_type": "markdown",
   "id": "5496415a",
   "metadata": {},
   "source": [
    "## Weibull Distribution:\n",
    "<img src='wd.jpeg' width=\"600\" height=\"400\">"
   ]
  },
  {
   "cell_type": "code",
   "execution_count": 48,
   "id": "a681054e",
   "metadata": {
    "scrolled": true
   },
   "outputs": [
    {
     "data": {
      "image/png": "[encoded data removed]",
      "text/plain": [
       "<Figure size 432x288 with 1 Axes>"
      ]
     },
     "metadata": {
      "needs_background": "light"
     },
     "output_type": "display_data"
    }
   ],
   "source": [
    "import numpy as np\n",
    "import math\n",
    "import matplotlib.pyplot as plt\n",
    "%matplotlib inline\n",
    "\n",
    "\n",
    "def wd(alpha, beta, Rn):\n",
    "    \"\"\"\n",
    "    Weibull Distribution\n",
    "    arguements \n",
    "        alpha : slope \n",
    "        beta  : shape\n",
    "        Rn    : array of Sample Data\n",
    "    returns \n",
    "        Xn : array of Random Variate\n",
    "    \"\"\"\n",
    "    n = len(Rn)\n",
    "    Xn = []\n",
    "    for i in range(n):\n",
    "        Xi = alpha * (-math.log(1 - Rn[i])) ** (1 / beta)\n",
    "        Xi = round(Xi, 3)\n",
    "        Xn.append(Xi)\n",
    "\n",
    "    return Xn\n",
    "\n",
    "alpha = 10\n",
    "beta = 2\n",
    "# Rn = np.random.random_sample(size = 10000)\n",
    "Rn = [0.1, 0.6, 0.5, 0.8, 0.2, 0.45]\n",
    "Xn = wd(alpha, beta, Rn)\n",
    "\n",
    "# Plot histogram of the generated random numbers\n",
    "plt.hist(Xn,bins='auto')\n",
    "plt.xlabel('Random Number', fontweight ='bold')\n",
    "plt.ylabel('Frequency', fontweight ='bold')\n",
    "plt.show()"
   ]
  },
  {
   "cell_type": "markdown",
   "id": "c4164d37",
   "metadata": {},
   "source": [
    "## Gamma Distribution:"
   ]
  },
  {
   "cell_type": "code",
   "execution_count": 55,
   "id": "089a601c",
   "metadata": {},
   "outputs": [
    {
     "name": "stdout",
     "output_type": "stream",
     "text": [
      "[1.347, 0.083, 0.05, 0.151]\n"
     ]
    },
    {
     "data": {
      "image/png": "[encoded data removed]",
      "text/plain": [
       "<Figure size 432x288 with 1 Axes>"
      ]
     },
     "metadata": {
      "needs_background": "light"
     },
     "output_type": "display_data"
    }
   ],
   "source": [
    "import numpy as np\n",
    "import math\n",
    "import matplotlib.pyplot as plt\n",
    "%matplotlib inline\n",
    "\n",
    "\n",
    "def single_gamma(beta, theta, Rn):\n",
    "    a = (2 * beta - 1) ** (1 / 2)\n",
    "    b = 2 * beta - math.log(4) + (1 / a)\n",
    "    temp1 = beta * ((Rn[0] / (1 - Rn[0])) ** a)\n",
    "    temp2 = b - math.log(Rn[0] * Rn[0] * Rn[1])\n",
    "    if(temp1 <= temp2):\n",
    "        X = temp1 / (beta * theta)\n",
    "    else:\n",
    "        X = -1\n",
    "    return X\n",
    "\n",
    "\n",
    "def gamma(beta, theta, Rn):\n",
    "    \"\"\"\n",
    "    gamma distribution\n",
    "    arguements \n",
    "        beta : slope\n",
    "        theta : mean in degrees\n",
    "        Rn : array of random numbers\n",
    "    returns \n",
    "        X : array of random variate\n",
    "    \"\"\"\n",
    "    Xn = []\n",
    "    for i in range(0, len(Rn), 2):\n",
    "        Xi = single_gamma(beta, theta, Rn[i:i+2])\n",
    "        Xi = round(Xi, 3)\n",
    "        if Xi != -1:\n",
    "            Xn.append(Xi)\n",
    "    return Xn\n",
    "\n",
    "\n",
    "beta = 2.3\n",
    "theta = 0.4545\n",
    "# Rn = np.random.random_sample(size = 1000)\n",
    "Rn = [0.4357, 0.1806, 0.1508, 0.8353, 0.1202, 0.8004, 0.9550, 0.1460, 0.196, 0.234]\n",
    "Xn = gamma(beta, theta, Rn)\n",
    "print(Xn)\n",
    "\n",
    "# Plot histogram of the generated random numbers\n",
    "plt.hist(Xn,bins='auto')\n",
    "plt.xlabel('Random Number', fontweight ='bold')\n",
    "plt.ylabel('Frequency', fontweight ='bold')\n",
    "plt.show()"
   ]
  }
 ],
 "metadata": {
  "kernelspec": {
   "display_name": "Python 3 (ipykernel)",
   "language": "python",
   "name": "python3"
  },
  "language_info": {
   "codemirror_mode": {
    "name": "ipython",
    "version": 3
   },
   "file_extension": ".py",
   "mimetype": "text/x-python",
   "name": "python",
   "nbconvert_exporter": "python",
   "pygments_lexer": "ipython3",
   "version": "3.9.7"
  }
 },
 "nbformat": 4,
 "nbformat_minor": 5
}
